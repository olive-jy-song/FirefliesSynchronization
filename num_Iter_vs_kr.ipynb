{
 "cells": [
  {
   "cell_type": "code",
   "execution_count": 1,
   "metadata": {},
   "outputs": [],
   "source": [
    "import numpy as np\n",
    "import matplotlib.pyplot as plt \n",
    "N = 100\n",
    "pi = np.pi \n",
    "w = 50\n",
    "dt = 0.01\n",
    "step_size = 200 \n",
    "phases_minus_mean = [] \n",
    "maxIter = 100 \n",
    "std = 0 \n",
    "Krc_arr = [k for k in range(10,70,5)] \n",
    "num_Iter_arr = [] "
   ]
  },
  {
   "cell_type": "code",
   "execution_count": 2,
   "metadata": {},
   "outputs": [],
   "source": [
    "def calculate_phases(Kr, w, curr_phase ,step_size, dt): \n",
    "    j = 0\n",
    "    for t in range (0,step_size):    \n",
    "        phase_mean = np.mean(curr_phase)  \n",
    "        for i in range (0,len(curr_phase)): \n",
    "            curr_phase[i] += w + dt * Kr * np.sin(phase_mean-curr_phase[i]) \n",
    "    phases_minus_mean = curr_phase - np.mean(curr_phase) \n",
    "    while j < len(curr_phase): \n",
    "        if phases_minus_mean[j] > pi or phases_minus_mean[j] < -pi: \n",
    "            curr_phase = np.delete(curr_phase,j,None)\n",
    "            phases_minus_mean = np.delete(phases_minus_mean,j,None)\n",
    "        j+=1 \n",
    "    return curr_phase "
   ]
  },
  {
   "cell_type": "code",
   "execution_count": 3,
   "metadata": {},
   "outputs": [],
   "source": [
    "def determine_synchronize(Kr,w,curr_phase ,step_size, dt): \n",
    "    synchro = False \n",
    "    for a in range(maxIter): \n",
    "        curr_phase = calculate_phases(Kr, w, curr_phase ,step_size, dt) \n",
    "        std = np.std(curr_phase) \n",
    "        if std < 10**-4: \n",
    "            synchro = True \n",
    "            numIter = a \n",
    "            break \n",
    "    if synchro == True: \n",
    "        print(\"The fireflies eventually synchronize with Kr value \"+str(Kr)+\" and natural frequency \" +str(w)+\".\") \n",
    "        return synchro, numIter  \n",
    "    else: \n",
    "        print(\"The fireflies do not synchronize with Kr value \"+str(Kr)+\" and natural frequency \" +str(w)+\".\") \n",
    "        return synchro, -1  "
   ]
  },
  {
   "cell_type": "code",
   "execution_count": 4,
   "metadata": {},
   "outputs": [
    {
     "name": "stdout",
     "output_type": "stream",
     "text": [
      "The fireflies eventually synchronize with Kr value 0.1 and natural frequency 50.\n",
      "The fireflies eventually synchronize with Kr value 0.15 and natural frequency 50.\n",
      "The fireflies eventually synchronize with Kr value 0.2 and natural frequency 50.\n",
      "The fireflies eventually synchronize with Kr value 0.25 and natural frequency 50.\n",
      "The fireflies eventually synchronize with Kr value 0.3 and natural frequency 50.\n",
      "The fireflies eventually synchronize with Kr value 0.35 and natural frequency 50.\n",
      "The fireflies eventually synchronize with Kr value 0.4 and natural frequency 50.\n",
      "The fireflies eventually synchronize with Kr value 0.45 and natural frequency 50.\n",
      "The fireflies eventually synchronize with Kr value 0.5 and natural frequency 50.\n",
      "The fireflies eventually synchronize with Kr value 0.55 and natural frequency 50.\n",
      "The fireflies eventually synchronize with Kr value 0.6 and natural frequency 50.\n",
      "The fireflies eventually synchronize with Kr value 0.65 and natural frequency 50.\n"
     ]
    }
   ],
   "source": [
    "for i in range(len(Krc_arr)): \n",
    "    curr_phase = np.random.uniform(-pi,pi,N) \n",
    "    synchro, numIter = determine_synchronize(Krc_arr[i]/100,w,curr_phase,step_size,dt) \n",
    "    num_Iter_arr.append(numIter) "
   ]
  },
  {
   "cell_type": "code",
   "execution_count": 5,
   "metadata": {},
   "outputs": [
    {
     "name": "stdout",
     "output_type": "stream",
     "text": [
      "[56, 38, 29, 22, 19, 18, 13, 11, 10, 11, 10, 8]\n"
     ]
    }
   ],
   "source": [
    "print(num_Iter_arr)"
   ]
  },
  {
   "cell_type": "code",
   "execution_count": 6,
   "metadata": {},
   "outputs": [
    {
     "data": {
      "text/plain": [
       "Text(0.5, 1.0, 'Number of Iterations Required vs. Kr Value')"
      ]
     },
     "execution_count": 6,
     "metadata": {},
     "output_type": "execute_result"
    },
    {
     "data": {
      "image/png": "[encoded data removed]",
      "text/plain": [
       "<Figure size 432x288 with 1 Axes>"
      ]
     },
     "metadata": {
      "needs_background": "light"
     },
     "output_type": "display_data"
    }
   ],
   "source": [
    "plt.scatter(Krc_arr, num_Iter_arr) \n",
    "plt.xlabel('Kr')\n",
    "plt.ylabel('Number of Iterations') \n",
    "plt.title('Number of Iterations Required vs. Kr Value') "
   ]
  },
  {
   "cell_type": "code",
   "execution_count": null,
   "metadata": {},
   "outputs": [],
   "source": []
  }
 ],
 "metadata": {
  "kernelspec": {
   "display_name": "Python 3",
   "language": "python",
   "name": "python3"
  },
  "language_info": {
   "codemirror_mode": {
    "name": "ipython",
    "version": 3
   },
   "file_extension": ".py",
   "mimetype": "text/x-python",
   "name": "python",
   "nbconvert_exporter": "python",
   "pygments_lexer": "ipython3",
   "version": "3.7.3"
  }
 },
 "nbformat": 4,
 "nbformat_minor": 2
}
