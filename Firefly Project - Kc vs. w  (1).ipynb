{
 "cells": [
  {
   "cell_type": "code",
   "execution_count": 1,
   "metadata": {},
   "outputs": [],
   "source": [
    "import numpy as np\n",
    "import matplotlib.pyplot as plt \n",
    "N = 100\n",
    "pi = np.pi \n",
    "dt = 0.01\n",
    "step_size = 10000\n",
    "phases_minus_mean = [] \n",
    "std = 0 \n",
    "natural_freq_arr = [W for W in range(10,150,10)]\n",
    "Krc_arr = [] "
   ]
  },
  {
   "cell_type": "code",
   "execution_count": 2,
   "metadata": {},
   "outputs": [],
   "source": [
    "def calculate_phases(Kr, w, curr_phase,step_size, dt): \n",
    "    j = 0\n",
    "    for t in range (0,step_size):    \n",
    "        phase_mean = np.mean(curr_phase)  \n",
    "        for i in range (0,len(curr_phase)): \n",
    "            curr_phase[i] += w + dt * Kr * np.sin(phase_mean-curr_phase[i]) \n",
    "    phases_minus_mean = curr_phase - np.mean(curr_phase) \n",
    "    while j < len(curr_phase): \n",
    "        if phases_minus_mean[j] > pi or phases_minus_mean[j] < -pi: \n",
    "            curr_phase = np.delete(curr_phase,j,None)\n",
    "            phases_minus_mean = np.delete(phases_minus_mean,j,None)\n",
    "        j+=1 \n",
    "    return curr_phase "
   ]
  },
  {
   "cell_type": "code",
   "execution_count": 3,
   "metadata": {},
   "outputs": [],
   "source": [
    "def determine_synchronize(Kr,w,curr_phase,step_size, dt): \n",
    "    synchro = False \n",
    "    curr_phase = calculate_phases(Kr, w, curr_phase, step_size, dt) \n",
    "    std = np.std(curr_phase) \n",
    "    if std < 10**-3: \n",
    "        synchro = True \n",
    "        print(\"The fireflies eventually synchronize with Kr value \"+str(Kr)+\" and natural frequency \" +str(w)+\".\") \n",
    "    else: \n",
    "        print(\"The fireflies are not synchronized with Kr value \"+str(Kr)+\" and natural frequency \" +str(w)+\".\") \n",
    "    return synchro "
   ]
  },
  {
   "cell_type": "code",
   "execution_count": 4,
   "metadata": {},
   "outputs": [],
   "source": [
    "def trial_synchro(w): \n",
    "    b=0.08\n",
    "    while b < 1.0: \n",
    "        curr_phase = np.random.uniform(-pi,pi,N) \n",
    "        synchro = determine_synchronize(b,w, curr_phase ,step_size, dt)\n",
    "        if synchro == True: \n",
    "            print(\"The critical value for Kr is approximately: \"+str(b)+\".\")\n",
    "            break \n",
    "        b+=0.001\n",
    "    return b"
   ]
  },
  {
   "cell_type": "code",
   "execution_count": 5,
   "metadata": {},
   "outputs": [
    {
     "name": "stdout",
     "output_type": "stream",
     "text": [
      "The fireflies are not synchronized with Kr value 0.08 and natural frequency 10.\n",
      "The fireflies are not synchronized with Kr value 0.081 and natural frequency 10.\n",
      "The fireflies are not synchronized with Kr value 0.082 and natural frequency 10.\n",
      "The fireflies are not synchronized with Kr value 0.083 and natural frequency 10.\n",
      "The fireflies are not synchronized with Kr value 0.084 and natural frequency 10.\n",
      "The fireflies are not synchronized with Kr value 0.085 and natural frequency 10.\n",
      "The fireflies are not synchronized with Kr value 0.08600000000000001 and natural frequency 10.\n",
      "The fireflies are not synchronized with Kr value 0.08700000000000001 and natural frequency 10.\n",
      "The fireflies are not synchronized with Kr value 0.08800000000000001 and natural frequency 10.\n",
      "The fireflies are not synchronized with Kr value 0.08900000000000001 and natural frequency 10.\n",
      "The fireflies are not synchronized with Kr value 0.09000000000000001 and natural frequency 10.\n",
      "The fireflies eventually synchronize with Kr value 0.09100000000000001 and natural frequency 10.\n",
      "The critical value for Kr is approximately: 0.09100000000000001.\n",
      "The fireflies are not synchronized with Kr value 0.08 and natural frequency 20.\n",
      "The fireflies are not synchronized with Kr value 0.081 and natural frequency 20.\n",
      "The fireflies are not synchronized with Kr value 0.082 and natural frequency 20.\n",
      "The fireflies are not synchronized with Kr value 0.083 and natural frequency 20.\n",
      "The fireflies are not synchronized with Kr value 0.084 and natural frequency 20.\n",
      "The fireflies are not synchronized with Kr value 0.085 and natural frequency 20.\n",
      "The fireflies are not synchronized with Kr value 0.08600000000000001 and natural frequency 20.\n",
      "The fireflies are not synchronized with Kr value 0.08700000000000001 and natural frequency 20.\n",
      "The fireflies eventually synchronize with Kr value 0.08800000000000001 and natural frequency 20.\n",
      "The critical value for Kr is approximately: 0.08800000000000001.\n",
      "The fireflies are not synchronized with Kr value 0.08 and natural frequency 30.\n",
      "The fireflies are not synchronized with Kr value 0.081 and natural frequency 30.\n",
      "The fireflies are not synchronized with Kr value 0.082 and natural frequency 30.\n",
      "The fireflies are not synchronized with Kr value 0.083 and natural frequency 30.\n",
      "The fireflies are not synchronized with Kr value 0.084 and natural frequency 30.\n",
      "The fireflies are not synchronized with Kr value 0.085 and natural frequency 30.\n",
      "The fireflies are not synchronized with Kr value 0.08600000000000001 and natural frequency 30.\n",
      "The fireflies are not synchronized with Kr value 0.08700000000000001 and natural frequency 30.\n",
      "The fireflies are not synchronized with Kr value 0.08800000000000001 and natural frequency 30.\n",
      "The fireflies are not synchronized with Kr value 0.08900000000000001 and natural frequency 30.\n",
      "The fireflies are not synchronized with Kr value 0.09000000000000001 and natural frequency 30.\n",
      "The fireflies are not synchronized with Kr value 0.09100000000000001 and natural frequency 30.\n",
      "The fireflies eventually synchronize with Kr value 0.09200000000000001 and natural frequency 30.\n",
      "The critical value for Kr is approximately: 0.09200000000000001.\n",
      "The fireflies are not synchronized with Kr value 0.08 and natural frequency 40.\n",
      "The fireflies are not synchronized with Kr value 0.081 and natural frequency 40.\n",
      "The fireflies are not synchronized with Kr value 0.082 and natural frequency 40.\n",
      "The fireflies are not synchronized with Kr value 0.083 and natural frequency 40.\n",
      "The fireflies are not synchronized with Kr value 0.084 and natural frequency 40.\n",
      "The fireflies are not synchronized with Kr value 0.085 and natural frequency 40.\n",
      "The fireflies eventually synchronize with Kr value 0.08600000000000001 and natural frequency 40.\n",
      "The critical value for Kr is approximately: 0.08600000000000001.\n",
      "The fireflies are not synchronized with Kr value 0.08 and natural frequency 50.\n",
      "The fireflies are not synchronized with Kr value 0.081 and natural frequency 50.\n",
      "The fireflies are not synchronized with Kr value 0.082 and natural frequency 50.\n",
      "The fireflies are not synchronized with Kr value 0.083 and natural frequency 50.\n",
      "The fireflies are not synchronized with Kr value 0.084 and natural frequency 50.\n",
      "The fireflies are not synchronized with Kr value 0.085 and natural frequency 50.\n",
      "The fireflies are not synchronized with Kr value 0.08600000000000001 and natural frequency 50.\n",
      "The fireflies are not synchronized with Kr value 0.08700000000000001 and natural frequency 50.\n",
      "The fireflies are not synchronized with Kr value 0.08800000000000001 and natural frequency 50.\n",
      "The fireflies are not synchronized with Kr value 0.08900000000000001 and natural frequency 50.\n",
      "The fireflies are not synchronized with Kr value 0.09000000000000001 and natural frequency 50.\n",
      "The fireflies are not synchronized with Kr value 0.09100000000000001 and natural frequency 50.\n",
      "The fireflies are not synchronized with Kr value 0.09200000000000001 and natural frequency 50.\n",
      "The fireflies eventually synchronize with Kr value 0.09300000000000001 and natural frequency 50.\n",
      "The critical value for Kr is approximately: 0.09300000000000001.\n",
      "The fireflies are not synchronized with Kr value 0.08 and natural frequency 60.\n",
      "The fireflies are not synchronized with Kr value 0.081 and natural frequency 60.\n",
      "The fireflies are not synchronized with Kr value 0.082 and natural frequency 60.\n",
      "The fireflies are not synchronized with Kr value 0.083 and natural frequency 60.\n",
      "The fireflies are not synchronized with Kr value 0.084 and natural frequency 60.\n",
      "The fireflies are not synchronized with Kr value 0.085 and natural frequency 60.\n",
      "The fireflies are not synchronized with Kr value 0.08600000000000001 and natural frequency 60.\n",
      "The fireflies are not synchronized with Kr value 0.08700000000000001 and natural frequency 60.\n",
      "The fireflies are not synchronized with Kr value 0.08800000000000001 and natural frequency 60.\n",
      "The fireflies are not synchronized with Kr value 0.08900000000000001 and natural frequency 60.\n",
      "The fireflies are not synchronized with Kr value 0.09000000000000001 and natural frequency 60.\n",
      "The fireflies are not synchronized with Kr value 0.09100000000000001 and natural frequency 60.\n",
      "The fireflies are not synchronized with Kr value 0.09200000000000001 and natural frequency 60.\n",
      "The fireflies eventually synchronize with Kr value 0.09300000000000001 and natural frequency 60.\n",
      "The critical value for Kr is approximately: 0.09300000000000001.\n",
      "The fireflies are not synchronized with Kr value 0.08 and natural frequency 70.\n",
      "The fireflies are not synchronized with Kr value 0.081 and natural frequency 70.\n",
      "The fireflies are not synchronized with Kr value 0.082 and natural frequency 70.\n",
      "The fireflies are not synchronized with Kr value 0.083 and natural frequency 70.\n",
      "The fireflies are not synchronized with Kr value 0.084 and natural frequency 70.\n",
      "The fireflies are not synchronized with Kr value 0.085 and natural frequency 70.\n",
      "The fireflies are not synchronized with Kr value 0.08600000000000001 and natural frequency 70.\n",
      "The fireflies are not synchronized with Kr value 0.08700000000000001 and natural frequency 70.\n",
      "The fireflies are not synchronized with Kr value 0.08800000000000001 and natural frequency 70.\n",
      "The fireflies are not synchronized with Kr value 0.08900000000000001 and natural frequency 70.\n",
      "The fireflies are not synchronized with Kr value 0.09000000000000001 and natural frequency 70.\n",
      "The fireflies are not synchronized with Kr value 0.09100000000000001 and natural frequency 70.\n",
      "The fireflies are not synchronized with Kr value 0.09200000000000001 and natural frequency 70.\n",
      "The fireflies are not synchronized with Kr value 0.09300000000000001 and natural frequency 70.\n",
      "The fireflies eventually synchronize with Kr value 0.09400000000000001 and natural frequency 70.\n",
      "The critical value for Kr is approximately: 0.09400000000000001.\n",
      "The fireflies are not synchronized with Kr value 0.08 and natural frequency 80.\n",
      "The fireflies are not synchronized with Kr value 0.081 and natural frequency 80.\n",
      "The fireflies are not synchronized with Kr value 0.082 and natural frequency 80.\n",
      "The fireflies are not synchronized with Kr value 0.083 and natural frequency 80.\n",
      "The fireflies are not synchronized with Kr value 0.084 and natural frequency 80.\n",
      "The fireflies are not synchronized with Kr value 0.085 and natural frequency 80.\n",
      "The fireflies are not synchronized with Kr value 0.08600000000000001 and natural frequency 80.\n",
      "The fireflies eventually synchronize with Kr value 0.08700000000000001 and natural frequency 80.\n",
      "The critical value for Kr is approximately: 0.08700000000000001.\n",
      "The fireflies are not synchronized with Kr value 0.08 and natural frequency 90.\n",
      "The fireflies are not synchronized with Kr value 0.081 and natural frequency 90.\n",
      "The fireflies are not synchronized with Kr value 0.082 and natural frequency 90.\n",
      "The fireflies are not synchronized with Kr value 0.083 and natural frequency 90.\n",
      "The fireflies are not synchronized with Kr value 0.084 and natural frequency 90.\n",
      "The fireflies are not synchronized with Kr value 0.085 and natural frequency 90.\n",
      "The fireflies are not synchronized with Kr value 0.08600000000000001 and natural frequency 90.\n",
      "The fireflies are not synchronized with Kr value 0.08700000000000001 and natural frequency 90.\n",
      "The fireflies are not synchronized with Kr value 0.08800000000000001 and natural frequency 90.\n",
      "The fireflies are not synchronized with Kr value 0.08900000000000001 and natural frequency 90.\n",
      "The fireflies are not synchronized with Kr value 0.09000000000000001 and natural frequency 90.\n",
      "The fireflies are not synchronized with Kr value 0.09100000000000001 and natural frequency 90.\n",
      "The fireflies are not synchronized with Kr value 0.09200000000000001 and natural frequency 90.\n",
      "The fireflies eventually synchronize with Kr value 0.09300000000000001 and natural frequency 90.\n",
      "The critical value for Kr is approximately: 0.09300000000000001.\n",
      "The fireflies are not synchronized with Kr value 0.08 and natural frequency 100.\n",
      "The fireflies are not synchronized with Kr value 0.081 and natural frequency 100.\n",
      "The fireflies are not synchronized with Kr value 0.082 and natural frequency 100.\n",
      "The fireflies are not synchronized with Kr value 0.083 and natural frequency 100.\n",
      "The fireflies are not synchronized with Kr value 0.084 and natural frequency 100.\n",
      "The fireflies are not synchronized with Kr value 0.085 and natural frequency 100.\n",
      "The fireflies are not synchronized with Kr value 0.08600000000000001 and natural frequency 100.\n",
      "The fireflies are not synchronized with Kr value 0.08700000000000001 and natural frequency 100.\n",
      "The fireflies are not synchronized with Kr value 0.08800000000000001 and natural frequency 100.\n",
      "The fireflies are not synchronized with Kr value 0.08900000000000001 and natural frequency 100.\n",
      "The fireflies are not synchronized with Kr value 0.09000000000000001 and natural frequency 100.\n",
      "The fireflies are not synchronized with Kr value 0.09100000000000001 and natural frequency 100.\n",
      "The fireflies eventually synchronize with Kr value 0.09200000000000001 and natural frequency 100.\n",
      "The critical value for Kr is approximately: 0.09200000000000001.\n",
      "The fireflies are not synchronized with Kr value 0.08 and natural frequency 110.\n",
      "The fireflies are not synchronized with Kr value 0.081 and natural frequency 110.\n",
      "The fireflies are not synchronized with Kr value 0.082 and natural frequency 110.\n",
      "The fireflies are not synchronized with Kr value 0.083 and natural frequency 110.\n",
      "The fireflies are not synchronized with Kr value 0.084 and natural frequency 110.\n",
      "The fireflies eventually synchronize with Kr value 0.085 and natural frequency 110.\n",
      "The critical value for Kr is approximately: 0.085.\n",
      "The fireflies are not synchronized with Kr value 0.08 and natural frequency 120.\n",
      "The fireflies are not synchronized with Kr value 0.081 and natural frequency 120.\n",
      "The fireflies are not synchronized with Kr value 0.082 and natural frequency 120.\n",
      "The fireflies are not synchronized with Kr value 0.083 and natural frequency 120.\n",
      "The fireflies are not synchronized with Kr value 0.084 and natural frequency 120.\n",
      "The fireflies are not synchronized with Kr value 0.085 and natural frequency 120.\n",
      "The fireflies are not synchronized with Kr value 0.08600000000000001 and natural frequency 120.\n",
      "The fireflies are not synchronized with Kr value 0.08700000000000001 and natural frequency 120.\n",
      "The fireflies are not synchronized with Kr value 0.08800000000000001 and natural frequency 120.\n",
      "The fireflies are not synchronized with Kr value 0.08900000000000001 and natural frequency 120.\n",
      "The fireflies are not synchronized with Kr value 0.09000000000000001 and natural frequency 120.\n",
      "The fireflies are not synchronized with Kr value 0.09100000000000001 and natural frequency 120.\n",
      "The fireflies eventually synchronize with Kr value 0.09200000000000001 and natural frequency 120.\n",
      "The critical value for Kr is approximately: 0.09200000000000001.\n",
      "The fireflies are not synchronized with Kr value 0.08 and natural frequency 130.\n",
      "The fireflies are not synchronized with Kr value 0.081 and natural frequency 130.\n",
      "The fireflies are not synchronized with Kr value 0.082 and natural frequency 130.\n",
      "The fireflies are not synchronized with Kr value 0.083 and natural frequency 130.\n",
      "The fireflies are not synchronized with Kr value 0.084 and natural frequency 130.\n",
      "The fireflies are not synchronized with Kr value 0.085 and natural frequency 130.\n",
      "The fireflies are not synchronized with Kr value 0.08600000000000001 and natural frequency 130.\n",
      "The fireflies are not synchronized with Kr value 0.08700000000000001 and natural frequency 130.\n",
      "The fireflies are not synchronized with Kr value 0.08800000000000001 and natural frequency 130.\n",
      "The fireflies eventually synchronize with Kr value 0.08900000000000001 and natural frequency 130.\n",
      "The critical value for Kr is approximately: 0.08900000000000001.\n",
      "The fireflies are not synchronized with Kr value 0.08 and natural frequency 140.\n",
      "The fireflies are not synchronized with Kr value 0.081 and natural frequency 140.\n",
      "The fireflies are not synchronized with Kr value 0.082 and natural frequency 140.\n",
      "The fireflies are not synchronized with Kr value 0.083 and natural frequency 140.\n",
      "The fireflies are not synchronized with Kr value 0.084 and natural frequency 140.\n",
      "The fireflies are not synchronized with Kr value 0.085 and natural frequency 140.\n",
      "The fireflies are not synchronized with Kr value 0.08600000000000001 and natural frequency 140.\n",
      "The fireflies are not synchronized with Kr value 0.08700000000000001 and natural frequency 140.\n",
      "The fireflies are not synchronized with Kr value 0.08800000000000001 and natural frequency 140.\n",
      "The fireflies are not synchronized with Kr value 0.08900000000000001 and natural frequency 140.\n",
      "The fireflies are not synchronized with Kr value 0.09000000000000001 and natural frequency 140.\n",
      "The fireflies are not synchronized with Kr value 0.09100000000000001 and natural frequency 140.\n",
      "The fireflies are not synchronized with Kr value 0.09200000000000001 and natural frequency 140.\n",
      "The fireflies are not synchronized with Kr value 0.09300000000000001 and natural frequency 140.\n",
      "The fireflies eventually synchronize with Kr value 0.09400000000000001 and natural frequency 140.\n",
      "The critical value for Kr is approximately: 0.09400000000000001.\n"
     ]
    }
   ],
   "source": [
    "for W in natural_freq_arr:  \n",
    "    Krc =  trial_synchro(W) \n",
    "    Krc_arr.append(Krc)"
   ]
  },
  {
   "cell_type": "code",
   "execution_count": 6,
   "metadata": {},
   "outputs": [
    {
     "name": "stdout",
     "output_type": "stream",
     "text": [
      "[10, 20, 30, 40, 50, 60, 70, 80, 90, 100, 110, 120, 130, 140]\n"
     ]
    },
    {
     "data": {
      "text/plain": [
       "Text(0, 0.5, 'Critical Value for Kr')"
      ]
     },
     "execution_count": 6,
     "metadata": {},
     "output_type": "execute_result"
    },
    {
     "data": {
      "image/png": "[encoded data removed]",
      "text/plain": [
       "<Figure size 432x288 with 1 Axes>"
      ]
     },
     "metadata": {
      "needs_background": "light"
     },
     "output_type": "display_data"
    }
   ],
   "source": [
    "print(natural_freq_arr)\n",
    "plt.scatter(natural_freq_arr, Krc_arr) \n",
    "plt.xlabel('Natural Frequency of Fireflies')\n",
    "plt.ylabel('Critical Value for Kr') "
   ]
  },
  {
   "cell_type": "code",
   "execution_count": 7,
   "metadata": {},
   "outputs": [
    {
     "name": "stdout",
     "output_type": "stream",
     "text": [
      "0.09064285714285715\n"
     ]
    }
   ],
   "source": [
    "print(np.mean(Krc_arr))"
   ]
  },
  {
   "cell_type": "code",
   "execution_count": null,
   "metadata": {},
   "outputs": [],
   "source": []
  }
 ],
 "metadata": {
  "kernelspec": {
   "display_name": "Python 3",
   "language": "python",
   "name": "python3"
  },
  "language_info": {
   "codemirror_mode": {
    "name": "ipython",
    "version": 3
   },
   "file_extension": ".py",
   "mimetype": "text/x-python",
   "name": "python",
   "nbconvert_exporter": "python",
   "pygments_lexer": "ipython3",
   "version": "3.7.3"
  }
 },
 "nbformat": 4,
 "nbformat_minor": 2
}
