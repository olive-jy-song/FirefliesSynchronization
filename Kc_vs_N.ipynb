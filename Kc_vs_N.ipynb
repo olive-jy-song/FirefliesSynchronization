{
 "cells": [
  {
   "cell_type": "code",
   "execution_count": 1,
   "metadata": {},
   "outputs": [],
   "source": [
    "import numpy as np\n",
    "import matplotlib.pyplot as plt \n",
    "N_arr = [2,4,6,8,10,100,500,1000,1500,2000,2500]\n",
    "pi = np.pi \n",
    "dt = 0.01\n",
    "step_size = 10000\n",
    "phases_minus_mean = [] \n",
    "std = 0 \n",
    "w = 50 \n",
    "Krc_arr = [] "
   ]
  },
  {
   "cell_type": "code",
   "execution_count": 2,
   "metadata": {},
   "outputs": [],
   "source": [
    "def calculate_phases(Kr, w, curr_phase,step_size, dt): \n",
    "    j = 0\n",
    "    for t in range (0,step_size):    \n",
    "        phase_mean = np.mean(curr_phase)  \n",
    "        for i in range (0,len(curr_phase)): \n",
    "            curr_phase[i] += w + dt * Kr * np.sin(phase_mean-curr_phase[i]) \n",
    "    phases_minus_mean = curr_phase - np.mean(curr_phase) \n",
    "    while j < len(curr_phase): \n",
    "        if phases_minus_mean[j] > pi or phases_minus_mean[j] < -pi: \n",
    "            curr_phase = np.delete(curr_phase,j,None)\n",
    "            phases_minus_mean = np.delete(phases_minus_mean,j,None)\n",
    "        j+=1 \n",
    "    return curr_phase "
   ]
  },
  {
   "cell_type": "code",
   "execution_count": 3,
   "metadata": {},
   "outputs": [],
   "source": [
    "def determine_synchronize(Kr,w,curr_phase,step_size, dt): \n",
    "    synchro = False \n",
    "    curr_phase = calculate_phases(Kr, w, curr_phase, step_size, dt) \n",
    "    std = np.std(curr_phase) \n",
    "    if std < 10**-3: \n",
    "        synchro = True \n",
    "        print(\"The fireflies eventually synchronize with Kr value \"+str(Kr)+\" and natural frequency \" +str(w)+\".\") \n",
    "    else: \n",
    "        print(\"The fireflies are not synchronized with Kr value \"+str(Kr)+\" and natural frequency \" +str(w)+\".\") \n",
    "    return synchro "
   ]
  },
  {
   "cell_type": "code",
   "execution_count": 4,
   "metadata": {},
   "outputs": [],
   "source": [
    "def trial_synchro(i): \n",
    "    b=0.08\n",
    "    while b < 1.0: \n",
    "        curr_phase = np.random.uniform(-pi,pi,N_arr[i]) \n",
    "        synchro = determine_synchronize(b,w, curr_phase ,step_size, dt)\n",
    "        if synchro == True: \n",
    "            print(\"The critical value for Kr is approximately: \"+str(b)+\".\")\n",
    "            break \n",
    "        b+=0.001\n",
    "    return b"
   ]
  },
  {
   "cell_type": "code",
   "execution_count": 5,
   "metadata": {},
   "outputs": [
    {
     "name": "stdout",
     "output_type": "stream",
     "text": [
      "The fireflies eventually synchronize with Kr value 0.08 and natural frequency 50.\n",
      "The critical value for Kr is approximately: 0.08.\n",
      "The fireflies eventually synchronize with Kr value 0.08 and natural frequency 50.\n",
      "The critical value for Kr is approximately: 0.08.\n",
      "The fireflies eventually synchronize with Kr value 0.08 and natural frequency 50.\n",
      "The critical value for Kr is approximately: 0.08.\n",
      "The fireflies eventually synchronize with Kr value 0.08 and natural frequency 50.\n",
      "The critical value for Kr is approximately: 0.08.\n",
      "The fireflies are not synchronized with Kr value 0.08 and natural frequency 50.\n",
      "The fireflies eventually synchronize with Kr value 0.081 and natural frequency 50.\n",
      "The critical value for Kr is approximately: 0.081.\n",
      "The fireflies are not synchronized with Kr value 0.08 and natural frequency 50.\n",
      "The fireflies are not synchronized with Kr value 0.081 and natural frequency 50.\n",
      "The fireflies are not synchronized with Kr value 0.082 and natural frequency 50.\n",
      "The fireflies are not synchronized with Kr value 0.083 and natural frequency 50.\n",
      "The fireflies are not synchronized with Kr value 0.084 and natural frequency 50.\n",
      "The fireflies are not synchronized with Kr value 0.085 and natural frequency 50.\n",
      "The fireflies are not synchronized with Kr value 0.08600000000000001 and natural frequency 50.\n",
      "The fireflies are not synchronized with Kr value 0.08700000000000001 and natural frequency 50.\n",
      "The fireflies are not synchronized with Kr value 0.08800000000000001 and natural frequency 50.\n",
      "The fireflies are not synchronized with Kr value 0.08900000000000001 and natural frequency 50.\n",
      "The fireflies are not synchronized with Kr value 0.09000000000000001 and natural frequency 50.\n",
      "The fireflies are not synchronized with Kr value 0.09100000000000001 and natural frequency 50.\n",
      "The fireflies are not synchronized with Kr value 0.09200000000000001 and natural frequency 50.\n",
      "The fireflies are not synchronized with Kr value 0.09300000000000001 and natural frequency 50.\n",
      "The fireflies are not synchronized with Kr value 0.09400000000000001 and natural frequency 50.\n",
      "The fireflies are not synchronized with Kr value 0.09500000000000001 and natural frequency 50.\n",
      "The fireflies eventually synchronize with Kr value 0.09600000000000002 and natural frequency 50.\n",
      "The critical value for Kr is approximately: 0.09600000000000002.\n",
      "The fireflies are not synchronized with Kr value 0.08 and natural frequency 50.\n",
      "The fireflies are not synchronized with Kr value 0.081 and natural frequency 50.\n",
      "The fireflies are not synchronized with Kr value 0.082 and natural frequency 50.\n",
      "The fireflies are not synchronized with Kr value 0.083 and natural frequency 50.\n",
      "The fireflies are not synchronized with Kr value 0.084 and natural frequency 50.\n",
      "The fireflies are not synchronized with Kr value 0.085 and natural frequency 50.\n",
      "The fireflies are not synchronized with Kr value 0.08600000000000001 and natural frequency 50.\n",
      "The fireflies are not synchronized with Kr value 0.08700000000000001 and natural frequency 50.\n",
      "The fireflies are not synchronized with Kr value 0.08800000000000001 and natural frequency 50.\n",
      "The fireflies are not synchronized with Kr value 0.08900000000000001 and natural frequency 50.\n",
      "The fireflies are not synchronized with Kr value 0.09000000000000001 and natural frequency 50.\n",
      "The fireflies are not synchronized with Kr value 0.09100000000000001 and natural frequency 50.\n",
      "The fireflies are not synchronized with Kr value 0.09200000000000001 and natural frequency 50.\n",
      "The fireflies are not synchronized with Kr value 0.09300000000000001 and natural frequency 50.\n",
      "The fireflies are not synchronized with Kr value 0.09400000000000001 and natural frequency 50.\n",
      "The fireflies are not synchronized with Kr value 0.09500000000000001 and natural frequency 50.\n",
      "The fireflies are not synchronized with Kr value 0.09600000000000002 and natural frequency 50.\n",
      "The fireflies are not synchronized with Kr value 0.09700000000000002 and natural frequency 50.\n",
      "The fireflies are not synchronized with Kr value 0.09800000000000002 and natural frequency 50.\n",
      "The fireflies eventually synchronize with Kr value 0.09900000000000002 and natural frequency 50.\n",
      "The critical value for Kr is approximately: 0.09900000000000002.\n",
      "The fireflies are not synchronized with Kr value 0.08 and natural frequency 50.\n",
      "The fireflies are not synchronized with Kr value 0.081 and natural frequency 50.\n",
      "The fireflies are not synchronized with Kr value 0.082 and natural frequency 50.\n",
      "The fireflies are not synchronized with Kr value 0.083 and natural frequency 50.\n",
      "The fireflies are not synchronized with Kr value 0.084 and natural frequency 50.\n",
      "The fireflies are not synchronized with Kr value 0.085 and natural frequency 50.\n",
      "The fireflies are not synchronized with Kr value 0.08600000000000001 and natural frequency 50.\n",
      "The fireflies are not synchronized with Kr value 0.08700000000000001 and natural frequency 50.\n",
      "The fireflies are not synchronized with Kr value 0.08800000000000001 and natural frequency 50.\n",
      "The fireflies are not synchronized with Kr value 0.08900000000000001 and natural frequency 50.\n",
      "The fireflies are not synchronized with Kr value 0.09000000000000001 and natural frequency 50.\n",
      "The fireflies are not synchronized with Kr value 0.09100000000000001 and natural frequency 50.\n",
      "The fireflies are not synchronized with Kr value 0.09200000000000001 and natural frequency 50.\n",
      "The fireflies are not synchronized with Kr value 0.09300000000000001 and natural frequency 50.\n",
      "The fireflies are not synchronized with Kr value 0.09400000000000001 and natural frequency 50.\n",
      "The fireflies are not synchronized with Kr value 0.09500000000000001 and natural frequency 50.\n",
      "The fireflies are not synchronized with Kr value 0.09600000000000002 and natural frequency 50.\n",
      "The fireflies are not synchronized with Kr value 0.09700000000000002 and natural frequency 50.\n",
      "The fireflies are not synchronized with Kr value 0.09800000000000002 and natural frequency 50.\n",
      "The fireflies are not synchronized with Kr value 0.09900000000000002 and natural frequency 50.\n",
      "The fireflies are not synchronized with Kr value 0.10000000000000002 and natural frequency 50.\n",
      "The fireflies are not synchronized with Kr value 0.10100000000000002 and natural frequency 50.\n",
      "The fireflies are not synchronized with Kr value 0.10200000000000002 and natural frequency 50.\n",
      "The fireflies eventually synchronize with Kr value 0.10300000000000002 and natural frequency 50.\n",
      "The critical value for Kr is approximately: 0.10300000000000002.\n",
      "The fireflies are not synchronized with Kr value 0.08 and natural frequency 50.\n",
      "The fireflies are not synchronized with Kr value 0.081 and natural frequency 50.\n",
      "The fireflies are not synchronized with Kr value 0.082 and natural frequency 50.\n",
      "The fireflies are not synchronized with Kr value 0.083 and natural frequency 50.\n",
      "The fireflies are not synchronized with Kr value 0.084 and natural frequency 50.\n",
      "The fireflies are not synchronized with Kr value 0.085 and natural frequency 50.\n",
      "The fireflies are not synchronized with Kr value 0.08600000000000001 and natural frequency 50.\n",
      "The fireflies are not synchronized with Kr value 0.08700000000000001 and natural frequency 50.\n",
      "The fireflies are not synchronized with Kr value 0.08800000000000001 and natural frequency 50.\n",
      "The fireflies are not synchronized with Kr value 0.08900000000000001 and natural frequency 50.\n",
      "The fireflies are not synchronized with Kr value 0.09000000000000001 and natural frequency 50.\n",
      "The fireflies are not synchronized with Kr value 0.09100000000000001 and natural frequency 50.\n",
      "The fireflies are not synchronized with Kr value 0.09200000000000001 and natural frequency 50.\n",
      "The fireflies are not synchronized with Kr value 0.09300000000000001 and natural frequency 50.\n",
      "The fireflies are not synchronized with Kr value 0.09400000000000001 and natural frequency 50.\n",
      "The fireflies are not synchronized with Kr value 0.09500000000000001 and natural frequency 50.\n",
      "The fireflies are not synchronized with Kr value 0.09600000000000002 and natural frequency 50.\n",
      "The fireflies are not synchronized with Kr value 0.09700000000000002 and natural frequency 50.\n",
      "The fireflies are not synchronized with Kr value 0.09800000000000002 and natural frequency 50.\n",
      "The fireflies are not synchronized with Kr value 0.09900000000000002 and natural frequency 50.\n",
      "The fireflies are not synchronized with Kr value 0.10000000000000002 and natural frequency 50.\n",
      "The fireflies are not synchronized with Kr value 0.10100000000000002 and natural frequency 50.\n",
      "The fireflies eventually synchronize with Kr value 0.10200000000000002 and natural frequency 50.\n",
      "The critical value for Kr is approximately: 0.10200000000000002.\n",
      "The fireflies are not synchronized with Kr value 0.08 and natural frequency 50.\n",
      "The fireflies are not synchronized with Kr value 0.081 and natural frequency 50.\n",
      "The fireflies are not synchronized with Kr value 0.082 and natural frequency 50.\n",
      "The fireflies are not synchronized with Kr value 0.083 and natural frequency 50.\n",
      "The fireflies are not synchronized with Kr value 0.084 and natural frequency 50.\n",
      "The fireflies are not synchronized with Kr value 0.085 and natural frequency 50.\n",
      "The fireflies are not synchronized with Kr value 0.08600000000000001 and natural frequency 50.\n",
      "The fireflies are not synchronized with Kr value 0.08700000000000001 and natural frequency 50.\n",
      "The fireflies are not synchronized with Kr value 0.08800000000000001 and natural frequency 50.\n",
      "The fireflies are not synchronized with Kr value 0.08900000000000001 and natural frequency 50.\n",
      "The fireflies are not synchronized with Kr value 0.09000000000000001 and natural frequency 50.\n",
      "The fireflies are not synchronized with Kr value 0.09100000000000001 and natural frequency 50.\n",
      "The fireflies are not synchronized with Kr value 0.09200000000000001 and natural frequency 50.\n",
      "The fireflies are not synchronized with Kr value 0.09300000000000001 and natural frequency 50.\n",
      "The fireflies are not synchronized with Kr value 0.09400000000000001 and natural frequency 50.\n",
      "The fireflies are not synchronized with Kr value 0.09500000000000001 and natural frequency 50.\n",
      "The fireflies are not synchronized with Kr value 0.09600000000000002 and natural frequency 50.\n",
      "The fireflies are not synchronized with Kr value 0.09700000000000002 and natural frequency 50.\n",
      "The fireflies are not synchronized with Kr value 0.09800000000000002 and natural frequency 50.\n",
      "The fireflies are not synchronized with Kr value 0.09900000000000002 and natural frequency 50.\n",
      "The fireflies are not synchronized with Kr value 0.10000000000000002 and natural frequency 50.\n",
      "The fireflies are not synchronized with Kr value 0.10100000000000002 and natural frequency 50.\n",
      "The fireflies are not synchronized with Kr value 0.10200000000000002 and natural frequency 50.\n",
      "The fireflies eventually synchronize with Kr value 0.10300000000000002 and natural frequency 50.\n",
      "The critical value for Kr is approximately: 0.10300000000000002.\n",
      "The fireflies are not synchronized with Kr value 0.08 and natural frequency 50.\n",
      "The fireflies are not synchronized with Kr value 0.081 and natural frequency 50.\n",
      "The fireflies are not synchronized with Kr value 0.082 and natural frequency 50.\n",
      "The fireflies are not synchronized with Kr value 0.083 and natural frequency 50.\n",
      "The fireflies are not synchronized with Kr value 0.084 and natural frequency 50.\n",
      "The fireflies are not synchronized with Kr value 0.085 and natural frequency 50.\n",
      "The fireflies are not synchronized with Kr value 0.08600000000000001 and natural frequency 50.\n",
      "The fireflies are not synchronized with Kr value 0.08700000000000001 and natural frequency 50.\n",
      "The fireflies are not synchronized with Kr value 0.08800000000000001 and natural frequency 50.\n",
      "The fireflies are not synchronized with Kr value 0.08900000000000001 and natural frequency 50.\n",
      "The fireflies are not synchronized with Kr value 0.09000000000000001 and natural frequency 50.\n",
      "The fireflies are not synchronized with Kr value 0.09100000000000001 and natural frequency 50.\n",
      "The fireflies are not synchronized with Kr value 0.09200000000000001 and natural frequency 50.\n",
      "The fireflies are not synchronized with Kr value 0.09300000000000001 and natural frequency 50.\n",
      "The fireflies are not synchronized with Kr value 0.09400000000000001 and natural frequency 50.\n",
      "The fireflies are not synchronized with Kr value 0.09500000000000001 and natural frequency 50.\n",
      "The fireflies are not synchronized with Kr value 0.09600000000000002 and natural frequency 50.\n",
      "The fireflies are not synchronized with Kr value 0.09700000000000002 and natural frequency 50.\n",
      "The fireflies are not synchronized with Kr value 0.09800000000000002 and natural frequency 50.\n",
      "The fireflies are not synchronized with Kr value 0.09900000000000002 and natural frequency 50.\n",
      "The fireflies are not synchronized with Kr value 0.10000000000000002 and natural frequency 50.\n",
      "The fireflies are not synchronized with Kr value 0.10100000000000002 and natural frequency 50.\n",
      "The fireflies are not synchronized with Kr value 0.10200000000000002 and natural frequency 50.\n",
      "The fireflies are not synchronized with Kr value 0.10300000000000002 and natural frequency 50.\n",
      "The fireflies are not synchronized with Kr value 0.10400000000000002 and natural frequency 50.\n",
      "The fireflies are not synchronized with Kr value 0.10500000000000002 and natural frequency 50.\n",
      "The fireflies are not synchronized with Kr value 0.10600000000000002 and natural frequency 50.\n",
      "The fireflies are not synchronized with Kr value 0.10700000000000003 and natural frequency 50.\n",
      "The fireflies are not synchronized with Kr value 0.10800000000000003 and natural frequency 50.\n",
      "The fireflies are not synchronized with Kr value 0.10900000000000003 and natural frequency 50.\n",
      "The fireflies eventually synchronize with Kr value 0.11000000000000003 and natural frequency 50.\n",
      "The critical value for Kr is approximately: 0.11000000000000003.\n"
     ]
    }
   ],
   "source": [
    "for i in range(len(N_arr)):  \n",
    "    Krc =  trial_synchro(i) \n",
    "    Krc_arr.append(Krc)"
   ]
  },
  {
   "cell_type": "code",
   "execution_count": 7,
   "metadata": {},
   "outputs": [
    {
     "name": "stdout",
     "output_type": "stream",
     "text": [
      "[2, 4, 6, 8, 10, 100, 500, 1000, 1500, 2000, 2500]\n"
     ]
    },
    {
     "data": {
      "text/plain": [
       "Text(0, 0.5, 'Critical Value for Kr')"
      ]
     },
     "execution_count": 7,
     "metadata": {},
     "output_type": "execute_result"
    },
    {
     "data": {
      "image/png": "[encoded data removed]",
      "text/plain": [
       "<Figure size 432x288 with 1 Axes>"
      ]
     },
     "metadata": {
      "needs_background": "light"
     },
     "output_type": "display_data"
    }
   ],
   "source": [
    "print(N_arr)\n",
    "plt.scatter(N_arr, Krc_arr) \n",
    "plt.xlabel('N')\n",
    "plt.ylabel('Critical Value for Kr') "
   ]
  },
  {
   "cell_type": "code",
   "execution_count": null,
   "metadata": {},
   "outputs": [],
   "source": []
  }
 ],
 "metadata": {
  "kernelspec": {
   "display_name": "Python 3",
   "language": "python",
   "name": "python3"
  },
  "language_info": {
   "codemirror_mode": {
    "name": "ipython",
    "version": 3
   },
   "file_extension": ".py",
   "mimetype": "text/x-python",
   "name": "python",
   "nbconvert_exporter": "python",
   "pygments_lexer": "ipython3",
   "version": "3.7.3"
  }
 },
 "nbformat": 4,
 "nbformat_minor": 2
}
